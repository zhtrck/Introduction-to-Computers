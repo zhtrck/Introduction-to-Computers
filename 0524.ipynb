{
  "nbformat": 4,
  "nbformat_minor": 0,
  "metadata": {
    "colab": {
      "provenance": [],
      "authorship_tag": "ABX9TyMetEZF5Zcp9/OHtmjsxcbR",
      "include_colab_link": true
    },
    "kernelspec": {
      "name": "python3",
      "display_name": "Python 3"
    },
    "language_info": {
      "name": "python"
    }
  },
  "cells": [
    {
      "cell_type": "markdown",
      "metadata": {
        "id": "view-in-github",
        "colab_type": "text"
      },
      "source": [
        "<a href=\"https://colab.research.google.com/github/zhtrck/Introduction-to-Computers/blob/main/0524.ipynb\" target=\"_parent\"><img src=\"https://colab.research.google.com/assets/colab-badge.svg\" alt=\"Open In Colab\"/></a>"
      ]
    },
    {
      "cell_type": "code",
      "execution_count": 4,
      "metadata": {
        "id": "dFL5wgUERUSf"
      },
      "outputs": [],
      "source": [
        "list1=range(2)"
      ]
    },
    {
      "cell_type": "code",
      "source": [
        "list(list1)"
      ],
      "metadata": {
        "id": "3ztrnauyUE0D",
        "outputId": "10268923-6e76-4588-9ac8-be1a4ab44b1f",
        "colab": {
          "base_uri": "https://localhost:8080/"
        }
      },
      "execution_count": 5,
      "outputs": [
        {
          "output_type": "execute_result",
          "data": {
            "text/plain": [
              "[0, 1]"
            ]
          },
          "metadata": {},
          "execution_count": 5
        }
      ]
    },
    {
      "cell_type": "code",
      "source": [
        "list2=range(3)"
      ],
      "metadata": {
        "id": "vzj18yoWUHor"
      },
      "execution_count": null,
      "outputs": []
    },
    {
      "cell_type": "code",
      "source": [
        "list(list2)"
      ],
      "metadata": {
        "colab": {
          "base_uri": "https://localhost:8080/"
        },
        "id": "VOJHW_7gUWhN",
        "outputId": "b26c355b-2474-460c-a20f-e0da287f1d78"
      },
      "execution_count": 6,
      "outputs": [
        {
          "output_type": "execute_result",
          "data": {
            "text/plain": [
              "[0, 1, 2]"
            ]
          },
          "metadata": {},
          "execution_count": 6
        }
      ]
    },
    {
      "cell_type": "code",
      "source": [
        "list3=range(4)"
      ],
      "metadata": {
        "id": "DEAu40rcUNHh"
      },
      "execution_count": 14,
      "outputs": []
    },
    {
      "cell_type": "code",
      "source": [
        "list(list3)"
      ],
      "metadata": {
        "colab": {
          "base_uri": "https://localhost:8080/"
        },
        "id": "qNHNGzc0Uduz",
        "outputId": "1dd49821-e23c-48e0-f518-368b35befbcb"
      },
      "execution_count": 15,
      "outputs": [
        {
          "output_type": "execute_result",
          "data": {
            "text/plain": [
              "[0, 1, 2, 3]"
            ]
          },
          "metadata": {},
          "execution_count": 15
        }
      ]
    },
    {
      "cell_type": "code",
      "source": [
        "list4=range(1,5)"
      ],
      "metadata": {
        "id": "oNhRTBVjUfjT"
      },
      "execution_count": 16,
      "outputs": []
    },
    {
      "cell_type": "code",
      "source": [
        "list(list4)"
      ],
      "metadata": {
        "colab": {
          "base_uri": "https://localhost:8080/"
        },
        "id": "qSRPXeGWUgfZ",
        "outputId": "30f42f85-ea3f-466c-de4a-b7cb9d7b1ba9"
      },
      "execution_count": 17,
      "outputs": [
        {
          "output_type": "execute_result",
          "data": {
            "text/plain": [
              "[1, 2, 3, 4]"
            ]
          },
          "metadata": {},
          "execution_count": 17
        }
      ]
    },
    {
      "cell_type": "code",
      "source": [
        "list5=range(2,8)"
      ],
      "metadata": {
        "id": "EBxlqruGUh5O"
      },
      "execution_count": 18,
      "outputs": []
    },
    {
      "cell_type": "code",
      "source": [
        "list(list5)"
      ],
      "metadata": {
        "colab": {
          "base_uri": "https://localhost:8080/"
        },
        "id": "AKHNbu7TUglP",
        "outputId": "b45c154e-e057-4b88-d5a1-0c525aab7373"
      },
      "execution_count": 19,
      "outputs": [
        {
          "output_type": "execute_result",
          "data": {
            "text/plain": [
              "[2, 3, 4, 5, 6, 7]"
            ]
          },
          "metadata": {},
          "execution_count": 19
        }
      ]
    },
    {
      "cell_type": "code",
      "source": [
        "list6=range(-2,10)"
      ],
      "metadata": {
        "id": "mLurKj7zUjYJ"
      },
      "execution_count": 20,
      "outputs": []
    },
    {
      "cell_type": "code",
      "source": [
        "list(list6)"
      ],
      "metadata": {
        "colab": {
          "base_uri": "https://localhost:8080/"
        },
        "id": "4wC1ur1ZUjaQ",
        "outputId": "91221285-c648-44de-bf4e-21dcde5af2d9"
      },
      "execution_count": 21,
      "outputs": [
        {
          "output_type": "execute_result",
          "data": {
            "text/plain": [
              "[-2, -1, 0, 1, 2, 3, 4, 5, 6, 7, 8, 9]"
            ]
          },
          "metadata": {},
          "execution_count": 21
        }
      ]
    },
    {
      "cell_type": "code",
      "source": [
        "c=range(3, 8, 1)"
      ],
      "metadata": {
        "id": "t667sp0iUlM0"
      },
      "execution_count": 22,
      "outputs": []
    },
    {
      "cell_type": "code",
      "source": [
        "list(c)"
      ],
      "metadata": {
        "colab": {
          "base_uri": "https://localhost:8080/"
        },
        "id": "ZGEVEitUUlRz",
        "outputId": "cca843c5-df1a-40da-d1a0-15b4128eb3ea"
      },
      "execution_count": 23,
      "outputs": [
        {
          "output_type": "execute_result",
          "data": {
            "text/plain": [
              "[3, 4, 5, 6, 7]"
            ]
          },
          "metadata": {},
          "execution_count": 23
        }
      ]
    },
    {
      "cell_type": "code",
      "source": [
        "d=range(3, 8, 2)"
      ],
      "metadata": {
        "id": "QD3e2r-_UnK0"
      },
      "execution_count": 24,
      "outputs": []
    },
    {
      "cell_type": "code",
      "source": [
        "list(d)"
      ],
      "metadata": {
        "colab": {
          "base_uri": "https://localhost:8080/"
        },
        "id": "TM-d6TPOUnPk",
        "outputId": "ede6ae1a-0c16-4552-fc77-5901a2dac409"
      },
      "execution_count": 25,
      "outputs": [
        {
          "output_type": "execute_result",
          "data": {
            "text/plain": [
              "[3, 5, 7]"
            ]
          },
          "metadata": {},
          "execution_count": 25
        }
      ]
    },
    {
      "cell_type": "code",
      "source": [
        "e=range(8, 3, -1)"
      ],
      "metadata": {
        "id": "LmkRkymwUpIO"
      },
      "execution_count": 26,
      "outputs": []
    },
    {
      "cell_type": "code",
      "source": [
        "list(e)"
      ],
      "metadata": {
        "colab": {
          "base_uri": "https://localhost:8080/"
        },
        "id": "8frI8SqhUpLl",
        "outputId": "d8c3c828-08af-425c-d682-0048bd1b765b"
      },
      "execution_count": 27,
      "outputs": [
        {
          "output_type": "execute_result",
          "data": {
            "text/plain": [
              "[8, 7, 6, 5, 4]"
            ]
          },
          "metadata": {},
          "execution_count": 27
        }
      ]
    },
    {
      "cell_type": "code",
      "source": [
        "listA=range(9)"
      ],
      "metadata": {
        "id": "CeFCFpVkUrpY"
      },
      "execution_count": 28,
      "outputs": []
    },
    {
      "cell_type": "code",
      "source": [
        "list(listA)"
      ],
      "metadata": {
        "colab": {
          "base_uri": "https://localhost:8080/"
        },
        "id": "B6zgfZizUruX",
        "outputId": "860a4b8a-33e7-4dcf-c976-329570343207"
      },
      "execution_count": 29,
      "outputs": [
        {
          "output_type": "execute_result",
          "data": {
            "text/plain": [
              "[0, 1, 2, 3, 4, 5, 6, 7, 8]"
            ]
          },
          "metadata": {},
          "execution_count": 29
        }
      ]
    },
    {
      "cell_type": "code",
      "source": [
        "listB=range(1,10)"
      ],
      "metadata": {
        "id": "jb9OPWIbUuxc"
      },
      "execution_count": 30,
      "outputs": []
    },
    {
      "cell_type": "code",
      "source": [
        "list(listB)"
      ],
      "metadata": {
        "colab": {
          "base_uri": "https://localhost:8080/"
        },
        "id": "B1oieC63Uvrm",
        "outputId": "1d2db684-11d4-420a-c28a-9b4ddb4fa253"
      },
      "execution_count": 31,
      "outputs": [
        {
          "output_type": "execute_result",
          "data": {
            "text/plain": [
              "[1, 2, 3, 4, 5, 6, 7, 8, 9]"
            ]
          },
          "metadata": {},
          "execution_count": 31
        }
      ]
    },
    {
      "cell_type": "code",
      "source": [
        "listC=range(1, 10, 2)"
      ],
      "metadata": {
        "id": "hf8QRytGUwsX"
      },
      "execution_count": 32,
      "outputs": []
    },
    {
      "cell_type": "code",
      "source": [
        "list(listC)"
      ],
      "metadata": {
        "colab": {
          "base_uri": "https://localhost:8080/"
        },
        "id": "B2zVi_9tUxiu",
        "outputId": "701bdfbf-3e9e-42b9-f2d7-1d1644919ba6"
      },
      "execution_count": 33,
      "outputs": [
        {
          "output_type": "execute_result",
          "data": {
            "text/plain": [
              "[1, 3, 5, 7, 9]"
            ]
          },
          "metadata": {},
          "execution_count": 33
        }
      ]
    },
    {
      "cell_type": "code",
      "source": [
        "listD=range(10, 1, -2)"
      ],
      "metadata": {
        "id": "fa23XHjwUyZB"
      },
      "execution_count": 34,
      "outputs": []
    },
    {
      "cell_type": "code",
      "source": [
        "list(listD)"
      ],
      "metadata": {
        "colab": {
          "base_uri": "https://localhost:8080/"
        },
        "id": "JLBZ30wSUzL2",
        "outputId": "f1898d13-ae38-4885-a266-c9ed349a5373"
      },
      "execution_count": 35,
      "outputs": [
        {
          "output_type": "execute_result",
          "data": {
            "text/plain": [
              "[10, 8, 6, 4, 2]"
            ]
          },
          "metadata": {},
          "execution_count": 35
        }
      ]
    },
    {
      "cell_type": "code",
      "source": [
        "n = int(input(\"請輸入一個正整數: \"))\n",
        "\n",
        "total = sum(range(1, n + 1))\n",
        "\n",
        "print(\"1到\", n, \"的整數和為:\", total)"
      ],
      "metadata": {
        "colab": {
          "base_uri": "https://localhost:8080/"
        },
        "id": "Lq_QqSuwU1Px",
        "outputId": "7784eb9c-3434-479b-bac9-5325eefa068c"
      },
      "execution_count": 12,
      "outputs": [
        {
          "output_type": "stream",
          "name": "stdout",
          "text": [
            "請輸入一個正整數: 41\n",
            "1到 41 的整數和為: 861\n"
          ]
        }
      ]
    },
    {
      "cell_type": "code",
      "source": [
        "num = int(input(\"請輸入一個正整數: \"))\n",
        "\n",
        "for i in range(1, num + 1):\n",
        "    total = sum(range(1, i + 1))\n",
        "    print(\"1到\", i, \"的整數和為:\", total)"
      ],
      "metadata": {
        "colab": {
          "base_uri": "https://localhost:8080/"
        },
        "id": "rET6QXQYU2wc",
        "outputId": "7dd8f700-cf24-493b-8a3b-f5ef5b483d12"
      },
      "execution_count": 10,
      "outputs": [
        {
          "output_type": "stream",
          "name": "stdout",
          "text": [
            "請輸入一個正整數: 23\n",
            "1到 1 的整數和為: 1\n",
            "1到 2 的整數和為: 3\n",
            "1到 3 的整數和為: 6\n",
            "1到 4 的整數和為: 10\n",
            "1到 5 的整數和為: 15\n",
            "1到 6 的整數和為: 21\n",
            "1到 7 的整數和為: 28\n",
            "1到 8 的整數和為: 36\n",
            "1到 9 的整數和為: 45\n",
            "1到 10 的整數和為: 55\n",
            "1到 11 的整數和為: 66\n",
            "1到 12 的整數和為: 78\n",
            "1到 13 的整數和為: 91\n",
            "1到 14 的整數和為: 105\n",
            "1到 15 的整數和為: 120\n",
            "1到 16 的整數和為: 136\n",
            "1到 17 的整數和為: 153\n",
            "1到 18 的整數和為: 171\n",
            "1到 19 的整數和為: 190\n",
            "1到 20 的整數和為: 210\n",
            "1到 21 的整數和為: 231\n",
            "1到 22 的整數和為: 253\n",
            "1到 23 的整數和為: 276\n"
          ]
        }
      ]
    }
  ]
}